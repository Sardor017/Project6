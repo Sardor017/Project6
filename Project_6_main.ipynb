{
 "cells": [
  {
   "cell_type": "code",
   "execution_count": 30,
   "metadata": {},
   "outputs": [],
   "source": [
    "import pandas as pd\n",
    "import numpy as np\n",
    "from sklearn.model_selection import train_test_split\n",
    "from sklearn.metrics import mean_absolute_error, r2_score\n",
    "import importlib\n",
    "import Project_6_moduls as P6\n",
    "importlib.reload(P6)  # Reload the module to ensure the latest version is used\n",
    "import warnings\n",
    "warnings.filterwarnings(\"ignore\")  # Suppress warnings for cleaner output"
   ]
  },
  {
   "cell_type": "code",
   "execution_count": 31,
   "metadata": {},
   "outputs": [],
   "source": [
    "# Load training and test datasets\n",
    "train = pd.read_csv(\"train_reg.csv\", index_col=0)\n",
    "test = pd.read_csv(\"test_reg.csv\", index_col=0)\n",
    "seed = 1  # Set random seed for reproducibility\n",
    "\n",
    "# Select useful features from train and test datasets using function in the module\n",
    "train = P6.useful_features(train)\n",
    "test = P6.useful_features(test)\n",
    "\n",
    "# Separate features and target for training data\n",
    "X = train.drop('yield', axis=1)  # Drop the target column from features\n",
    "y = train['yield']  # Target variable"
   ]
  },
  {
   "cell_type": "code",
   "execution_count": 32,
   "metadata": {},
   "outputs": [
    {
     "name": "stdout",
     "output_type": "stream",
     "text": [
      "Mean Absolute Error on the test set: 236.30\n",
      "R² Score on the test set: 0.93\n"
     ]
    }
   ],
   "source": [
    "# Split the data into training and testing subsets for evaluation\n",
    "X_train, X_test, y_train, y_test = train_test_split(X, y, test_size=0.2, random_state=seed)\n",
    "\n",
    "# Fit the stacking model and make predictions on the test split\n",
    "y_pred_test = P6.stacking_model_function(X_train, y_train, X_test, seed=1)\n",
    "\n",
    "# Calculate evaluation metrics for the test set\n",
    "mae = mean_absolute_error(y_test, y_pred_test)\n",
    "r2 = r2_score(y_test, y_pred_test)\n",
    "print(f\"Mean Absolute Error on the test set: {mae:.2f}\")\n",
    "print(f\"R² Score on the test set: {r2:.2f}\")"
   ]
  },
  {
   "cell_type": "code",
   "execution_count": null,
   "metadata": {},
   "outputs": [],
   "source": [
    "# Make predictions on the final test dataset for submission\n",
    "y_pred_test = P6.stacking_model_function(X, y, test, seed=1)\n",
    "\n",
    "# Prepare the submission file\n",
    "df_submission = pd.DataFrame(pd.read_csv(\"test.csv\")[\"id\"])  # Load 'id' column from test.csv\n",
    "df_submission[\"yield\"] = y_pred_test  # Add predictions as 'yield' column\n",
    "\n",
    "# Save the submission file as a CSV\n",
    "df_submission.to_csv(\"My Last Submission.csv\", index=False)\n"
   ]
  },
  {
   "cell_type": "code",
   "execution_count": null,
   "metadata": {},
   "outputs": [],
   "source": []
  }
 ],
 "metadata": {
  "kernelspec": {
   "display_name": "Python 3",
   "language": "python",
   "name": "python3"
  },
  "language_info": {
   "codemirror_mode": {
    "name": "ipython",
    "version": 3
   },
   "file_extension": ".py",
   "mimetype": "text/x-python",
   "name": "python",
   "nbconvert_exporter": "python",
   "pygments_lexer": "ipython3",
   "version": "3.12.4"
  }
 },
 "nbformat": 4,
 "nbformat_minor": 2
}
